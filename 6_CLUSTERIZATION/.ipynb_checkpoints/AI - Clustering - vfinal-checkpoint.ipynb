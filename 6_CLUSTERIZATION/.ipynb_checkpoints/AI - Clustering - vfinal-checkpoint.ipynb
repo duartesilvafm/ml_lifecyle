{
 "cells": [
  {
   "cell_type": "code",
   "execution_count": 1,
   "metadata": {},
   "outputs": [
    {
     "name": "stderr",
     "output_type": "stream",
     "text": [
      "C:\\Users\\duart\\AppData\\Local\\conda\\conda\\envs\\testEnv\\lib\\site-packages\\statsmodels\\tools\\_testing.py:19: FutureWarning: pandas.util.testing is deprecated. Use the functions in the public API at pandas.testing instead.\n",
      "  import pandas.util.testing as tm\n"
     ]
    }
   ],
   "source": [
    "from IPython.core.interactiveshell import InteractiveShell\n",
    "InteractiveShell.ast_node_interactivity = \"all\"\n",
    "\n",
    "%matplotlib inline\n",
    "\n",
    "import pandas as pd\n",
    "import numpy as np\n",
    "\n",
    "import matplotlib.pyplot as plt\n",
    "import seaborn as sns\n",
    "sns.set_style(\"whitegrid\")\n",
    "sns.set_context(\"notebook\")\n",
    "#sns.set_context(\"poster\")\n"
   ]
  },
  {
   "cell_type": "code",
   "execution_count": 2,
   "metadata": {},
   "outputs": [
    {
     "name": "stderr",
     "output_type": "stream",
     "text": [
      "C:\\Users\\duart\\AppData\\Local\\conda\\conda\\envs\\testEnv\\lib\\site-packages\\sklearn\\utils\\deprecation.py:144: FutureWarning: The sklearn.metrics.classification module is  deprecated in version 0.22 and will be removed in version 0.24. The corresponding classes / functions should instead be imported from sklearn.metrics. Anything that cannot be imported from sklearn.metrics is now part of the private API.\n",
      "  warnings.warn(message, FutureWarning)\n"
     ]
    }
   ],
   "source": [
    "# For this exercise you need to install yellowbrick\n",
    "# it will be also useful to take a look at the documentation\n",
    "#    scikit-yb.org\n",
    "#\n",
    "# ! pip install yellowbrick\n",
    "\n",
    "from sklearn.model_selection import train_test_split\n",
    "from sklearn.metrics import accuracy_score\n",
    "\n",
    "from sklearn import preprocessing\n",
    "\n",
    "from sklearn.datasets import load_wine\n",
    "from sklearn.datasets import load_boston\n",
    "\n",
    "from sklearn.cluster import KMeans\n",
    "from sklearn.cluster import MiniBatchKMeans\n",
    "from yellowbrick.cluster import KElbowVisualizer\n",
    "from yellowbrick.cluster import SilhouetteVisualizer\n",
    "from yellowbrick.cluster import InterclusterDistance\n",
    "from yellowbrick.model_selection import LearningCurve\n"
   ]
  },
  {
   "cell_type": "markdown",
   "metadata": {},
   "source": [
    "<h1>Clustering</h1>\n",
    "\n",
    "Clustering is the most common and well-known unsupervised learning techniques. We can find clustring almost everywhere, in political campaigns, in client segmentation, ... The aglomeration of similar items is very familiar to us, Cities are clusters of people and in cities business traditionally cluster.\n",
    "\n",
    "However, the fact that clustering is unsupervised poses some problems to validation metrics and verification. There is normally no grown truth, therefore there is not a single solution. Many times clusters, including its number, depends on the point of view of the problem and the questions that we are trying to address. \n",
    "\n",
    "The first problem that we encounter with clustering is finding out the best number of clusters. For this the elbow method is commonly used. It performs k-means with an increasingly number of clusters finding the k (number of clusters) that minimizes intra-cluster distance.\n",
    "\n",
    "Checking the goodness is commonly done using the Silhoutte coefficient that measures the mean intra-cluster distance relative to the nearest clusters providing an appreciation of compactness. \n",
    "\n",
    "Clustering is very intuitive in two-dimensional spaces, but difficult to imagine in multidimensional spaces. The output of a clustering algorithm are centroids which consists of vectors with the center for each attribute. Using predict we can easily assign membership. \n",
    "\n",
    "Also we aware that clustering works measuring distances, therefore we need to rescaled (normally between 0..1) all the attributes. \n",
    "\n",
    "In this notebook we will use the UCI wine dataset, a compilation of characteristics of 178 Italian red wines divided in three families. We will see how well clustering can find without any example these three classes. \n",
    "\n",
    "In many cases, like this one, clustering has some coincidences with classification. This is precisely this case. When this happens we know the ground truth and therefore we can apply measures such as accuracy. However, this is uncommon, and therefore assessing its goodness is difficult. \n",
    "\n",
    "This notebook heavily uses the yellowbrick library, please install it with \n",
    "<p style=\"margin-left: 200px\"> <b><i>pip install yellowbrick</i></b> </p>"
   ]
  },
  {
   "cell_type": "markdown",
   "metadata": {},
   "source": [
    "<img src=\"wine-dataset.jpg\">"
   ]
  },
  {
   "cell_type": "code",
   "execution_count": 3,
   "metadata": {},
   "outputs": [
    {
     "name": "stdout",
     "output_type": "stream",
     "text": [
      ".. _wine_dataset:\n",
      "\n",
      "Wine recognition dataset\n",
      "------------------------\n",
      "\n",
      "**Data Set Characteristics:**\n",
      "\n",
      "    :Number of Instances: 178 (50 in each of three classes)\n",
      "    :Number of Attributes: 13 numeric, predictive attributes and the class\n",
      "    :Attribute Information:\n",
      " \t\t- Alcohol\n",
      " \t\t- Malic acid\n",
      " \t\t- Ash\n",
      "\t\t- Alcalinity of ash  \n",
      " \t\t- Magnesium\n",
      "\t\t- Total phenols\n",
      " \t\t- Flavanoids\n",
      " \t\t- Nonflavanoid phenols\n",
      " \t\t- Proanthocyanins\n",
      "\t\t- Color intensity\n",
      " \t\t- Hue\n",
      " \t\t- OD280/OD315 of diluted wines\n",
      " \t\t- Proline\n",
      "\n",
      "    - class:\n",
      "            - class_0\n",
      "            - class_1\n",
      "            - class_2\n",
      "\t\t\n",
      "    :Summary Statistics:\n",
      "    \n",
      "    ============================= ==== ===== ======= =====\n",
      "                                   Min   Max   Mean     SD\n",
      "    ============================= ==== ===== ======= =====\n",
      "    Alcohol:                      11.0  14.8    13.0   0.8\n",
      "    Malic Acid:                   0.74  5.80    2.34  1.12\n",
      "    Ash:                          1.36  3.23    2.36  0.27\n",
      "    Alcalinity of Ash:            10.6  30.0    19.5   3.3\n",
      "    Magnesium:                    70.0 162.0    99.7  14.3\n",
      "    Total Phenols:                0.98  3.88    2.29  0.63\n",
      "    Flavanoids:                   0.34  5.08    2.03  1.00\n",
      "    Nonflavanoid Phenols:         0.13  0.66    0.36  0.12\n",
      "    Proanthocyanins:              0.41  3.58    1.59  0.57\n",
      "    Colour Intensity:              1.3  13.0     5.1   2.3\n",
      "    Hue:                          0.48  1.71    0.96  0.23\n",
      "    OD280/OD315 of diluted wines: 1.27  4.00    2.61  0.71\n",
      "    Proline:                       278  1680     746   315\n",
      "    ============================= ==== ===== ======= =====\n",
      "\n",
      "    :Missing Attribute Values: None\n",
      "    :Class Distribution: class_0 (59), class_1 (71), class_2 (48)\n",
      "    :Creator: R.A. Fisher\n",
      "    :Donor: Michael Marshall (MARSHALL%PLU@io.arc.nasa.gov)\n",
      "    :Date: July, 1988\n",
      "\n",
      "This is a copy of UCI ML Wine recognition datasets.\n",
      "https://archive.ics.uci.edu/ml/machine-learning-databases/wine/wine.data\n",
      "\n",
      "The data is the results of a chemical analysis of wines grown in the same\n",
      "region in Italy by three different cultivators. There are thirteen different\n",
      "measurements taken for different constituents found in the three types of\n",
      "wine.\n",
      "\n",
      "Original Owners: \n",
      "\n",
      "Forina, M. et al, PARVUS - \n",
      "An Extendible Package for Data Exploration, Classification and Correlation. \n",
      "Institute of Pharmaceutical and Food Analysis and Technologies,\n",
      "Via Brigata Salerno, 16147 Genoa, Italy.\n",
      "\n",
      "Citation:\n",
      "\n",
      "Lichman, M. (2013). UCI Machine Learning Repository\n",
      "[https://archive.ics.uci.edu/ml]. Irvine, CA: University of California,\n",
      "School of Information and Computer Science. \n",
      "\n",
      ".. topic:: References\n",
      "\n",
      "  (1) S. Aeberhard, D. Coomans and O. de Vel, \n",
      "  Comparison of Classifiers in High Dimensional Settings, \n",
      "  Tech. Rep. no. 92-02, (1992), Dept. of Computer Science and Dept. of  \n",
      "  Mathematics and Statistics, James Cook University of North Queensland. \n",
      "  (Also submitted to Technometrics). \n",
      "\n",
      "  The data was used with many others for comparing various \n",
      "  classifiers. The classes are separable, though only RDA \n",
      "  has achieved 100% correct classification. \n",
      "  (RDA : 100%, QDA 99.4%, LDA 98.9%, 1NN 96.1% (z-transformed data)) \n",
      "  (All results using the leave-one-out technique) \n",
      "\n",
      "  (2) S. Aeberhard, D. Coomans and O. de Vel, \n",
      "  \"THE CLASSIFICATION PERFORMANCE OF RDA\" \n",
      "  Tech. Rep. no. 92-01, (1992), Dept. of Computer Science and Dept. of \n",
      "  Mathematics and Statistics, James Cook University of North Queensland. \n",
      "  (Also submitted to Journal of Chemometrics).\n",
      "\n"
     ]
    }
   ],
   "source": [
    "# We use the wine dataset\n",
    "wine = load_wine()\n",
    "\n",
    "print(wine[\"DESCR\"])"
   ]
  },
  {
   "cell_type": "code",
   "execution_count": 4,
   "metadata": {},
   "outputs": [
    {
     "data": {
      "text/html": [
       "<div>\n",
       "<style scoped>\n",
       "    .dataframe tbody tr th:only-of-type {\n",
       "        vertical-align: middle;\n",
       "    }\n",
       "\n",
       "    .dataframe tbody tr th {\n",
       "        vertical-align: top;\n",
       "    }\n",
       "\n",
       "    .dataframe thead th {\n",
       "        text-align: right;\n",
       "    }\n",
       "</style>\n",
       "<table border=\"1\" class=\"dataframe\">\n",
       "  <thead>\n",
       "    <tr style=\"text-align: right;\">\n",
       "      <th></th>\n",
       "      <th>alcohol</th>\n",
       "      <th>malic_acid</th>\n",
       "      <th>ash</th>\n",
       "      <th>alcalinity_of_ash</th>\n",
       "      <th>magnesium</th>\n",
       "      <th>total_phenols</th>\n",
       "      <th>flavanoids</th>\n",
       "      <th>nonflavanoid_phenols</th>\n",
       "      <th>proanthocyanins</th>\n",
       "      <th>color_intensity</th>\n",
       "      <th>hue</th>\n",
       "      <th>od280/od315_of_diluted_wines</th>\n",
       "      <th>proline</th>\n",
       "      <th>TARGET</th>\n",
       "    </tr>\n",
       "  </thead>\n",
       "  <tbody>\n",
       "    <tr>\n",
       "      <th>0</th>\n",
       "      <td>14.23</td>\n",
       "      <td>1.71</td>\n",
       "      <td>2.43</td>\n",
       "      <td>15.6</td>\n",
       "      <td>127.0</td>\n",
       "      <td>2.80</td>\n",
       "      <td>3.06</td>\n",
       "      <td>0.28</td>\n",
       "      <td>2.29</td>\n",
       "      <td>5.64</td>\n",
       "      <td>1.04</td>\n",
       "      <td>3.92</td>\n",
       "      <td>1065.0</td>\n",
       "      <td>0</td>\n",
       "    </tr>\n",
       "    <tr>\n",
       "      <th>1</th>\n",
       "      <td>13.20</td>\n",
       "      <td>1.78</td>\n",
       "      <td>2.14</td>\n",
       "      <td>11.2</td>\n",
       "      <td>100.0</td>\n",
       "      <td>2.65</td>\n",
       "      <td>2.76</td>\n",
       "      <td>0.26</td>\n",
       "      <td>1.28</td>\n",
       "      <td>4.38</td>\n",
       "      <td>1.05</td>\n",
       "      <td>3.40</td>\n",
       "      <td>1050.0</td>\n",
       "      <td>0</td>\n",
       "    </tr>\n",
       "    <tr>\n",
       "      <th>2</th>\n",
       "      <td>13.16</td>\n",
       "      <td>2.36</td>\n",
       "      <td>2.67</td>\n",
       "      <td>18.6</td>\n",
       "      <td>101.0</td>\n",
       "      <td>2.80</td>\n",
       "      <td>3.24</td>\n",
       "      <td>0.30</td>\n",
       "      <td>2.81</td>\n",
       "      <td>5.68</td>\n",
       "      <td>1.03</td>\n",
       "      <td>3.17</td>\n",
       "      <td>1185.0</td>\n",
       "      <td>0</td>\n",
       "    </tr>\n",
       "    <tr>\n",
       "      <th>3</th>\n",
       "      <td>14.37</td>\n",
       "      <td>1.95</td>\n",
       "      <td>2.50</td>\n",
       "      <td>16.8</td>\n",
       "      <td>113.0</td>\n",
       "      <td>3.85</td>\n",
       "      <td>3.49</td>\n",
       "      <td>0.24</td>\n",
       "      <td>2.18</td>\n",
       "      <td>7.80</td>\n",
       "      <td>0.86</td>\n",
       "      <td>3.45</td>\n",
       "      <td>1480.0</td>\n",
       "      <td>0</td>\n",
       "    </tr>\n",
       "    <tr>\n",
       "      <th>4</th>\n",
       "      <td>13.24</td>\n",
       "      <td>2.59</td>\n",
       "      <td>2.87</td>\n",
       "      <td>21.0</td>\n",
       "      <td>118.0</td>\n",
       "      <td>2.80</td>\n",
       "      <td>2.69</td>\n",
       "      <td>0.39</td>\n",
       "      <td>1.82</td>\n",
       "      <td>4.32</td>\n",
       "      <td>1.04</td>\n",
       "      <td>2.93</td>\n",
       "      <td>735.0</td>\n",
       "      <td>0</td>\n",
       "    </tr>\n",
       "  </tbody>\n",
       "</table>\n",
       "</div>"
      ],
      "text/plain": [
       "   alcohol  malic_acid   ash  alcalinity_of_ash  magnesium  total_phenols  \\\n",
       "0    14.23        1.71  2.43               15.6      127.0           2.80   \n",
       "1    13.20        1.78  2.14               11.2      100.0           2.65   \n",
       "2    13.16        2.36  2.67               18.6      101.0           2.80   \n",
       "3    14.37        1.95  2.50               16.8      113.0           3.85   \n",
       "4    13.24        2.59  2.87               21.0      118.0           2.80   \n",
       "\n",
       "   flavanoids  nonflavanoid_phenols  proanthocyanins  color_intensity   hue  \\\n",
       "0        3.06                  0.28             2.29             5.64  1.04   \n",
       "1        2.76                  0.26             1.28             4.38  1.05   \n",
       "2        3.24                  0.30             2.81             5.68  1.03   \n",
       "3        3.49                  0.24             2.18             7.80  0.86   \n",
       "4        2.69                  0.39             1.82             4.32  1.04   \n",
       "\n",
       "   od280/od315_of_diluted_wines  proline  TARGET  \n",
       "0                          3.92   1065.0       0  \n",
       "1                          3.40   1050.0       0  \n",
       "2                          3.17   1185.0       0  \n",
       "3                          3.45   1480.0       0  \n",
       "4                          2.93    735.0       0  "
      ]
     },
     "execution_count": 4,
     "metadata": {},
     "output_type": "execute_result"
    },
    {
     "data": {
      "text/html": [
       "<div>\n",
       "<style scoped>\n",
       "    .dataframe tbody tr th:only-of-type {\n",
       "        vertical-align: middle;\n",
       "    }\n",
       "\n",
       "    .dataframe tbody tr th {\n",
       "        vertical-align: top;\n",
       "    }\n",
       "\n",
       "    .dataframe thead th {\n",
       "        text-align: right;\n",
       "    }\n",
       "</style>\n",
       "<table border=\"1\" class=\"dataframe\">\n",
       "  <thead>\n",
       "    <tr style=\"text-align: right;\">\n",
       "      <th></th>\n",
       "      <th>alcohol</th>\n",
       "      <th>malic_acid</th>\n",
       "      <th>ash</th>\n",
       "      <th>alcalinity_of_ash</th>\n",
       "      <th>magnesium</th>\n",
       "      <th>total_phenols</th>\n",
       "      <th>flavanoids</th>\n",
       "      <th>nonflavanoid_phenols</th>\n",
       "      <th>proanthocyanins</th>\n",
       "      <th>color_intensity</th>\n",
       "      <th>hue</th>\n",
       "      <th>od280/od315_of_diluted_wines</th>\n",
       "      <th>proline</th>\n",
       "      <th>TARGET</th>\n",
       "    </tr>\n",
       "  </thead>\n",
       "  <tbody>\n",
       "    <tr>\n",
       "      <th>count</th>\n",
       "      <td>178.000000</td>\n",
       "      <td>178.000000</td>\n",
       "      <td>178.000000</td>\n",
       "      <td>178.000000</td>\n",
       "      <td>178.000000</td>\n",
       "      <td>178.000000</td>\n",
       "      <td>178.000000</td>\n",
       "      <td>178.000000</td>\n",
       "      <td>178.000000</td>\n",
       "      <td>178.000000</td>\n",
       "      <td>178.000000</td>\n",
       "      <td>178.000000</td>\n",
       "      <td>178.000000</td>\n",
       "      <td>178.000000</td>\n",
       "    </tr>\n",
       "    <tr>\n",
       "      <th>mean</th>\n",
       "      <td>13.000618</td>\n",
       "      <td>2.336348</td>\n",
       "      <td>2.366517</td>\n",
       "      <td>19.494944</td>\n",
       "      <td>99.741573</td>\n",
       "      <td>2.295112</td>\n",
       "      <td>2.029270</td>\n",
       "      <td>0.361854</td>\n",
       "      <td>1.590899</td>\n",
       "      <td>5.058090</td>\n",
       "      <td>0.957449</td>\n",
       "      <td>2.611685</td>\n",
       "      <td>746.893258</td>\n",
       "      <td>0.938202</td>\n",
       "    </tr>\n",
       "    <tr>\n",
       "      <th>std</th>\n",
       "      <td>0.811827</td>\n",
       "      <td>1.117146</td>\n",
       "      <td>0.274344</td>\n",
       "      <td>3.339564</td>\n",
       "      <td>14.282484</td>\n",
       "      <td>0.625851</td>\n",
       "      <td>0.998859</td>\n",
       "      <td>0.124453</td>\n",
       "      <td>0.572359</td>\n",
       "      <td>2.318286</td>\n",
       "      <td>0.228572</td>\n",
       "      <td>0.709990</td>\n",
       "      <td>314.907474</td>\n",
       "      <td>0.775035</td>\n",
       "    </tr>\n",
       "    <tr>\n",
       "      <th>min</th>\n",
       "      <td>11.030000</td>\n",
       "      <td>0.740000</td>\n",
       "      <td>1.360000</td>\n",
       "      <td>10.600000</td>\n",
       "      <td>70.000000</td>\n",
       "      <td>0.980000</td>\n",
       "      <td>0.340000</td>\n",
       "      <td>0.130000</td>\n",
       "      <td>0.410000</td>\n",
       "      <td>1.280000</td>\n",
       "      <td>0.480000</td>\n",
       "      <td>1.270000</td>\n",
       "      <td>278.000000</td>\n",
       "      <td>0.000000</td>\n",
       "    </tr>\n",
       "    <tr>\n",
       "      <th>25%</th>\n",
       "      <td>12.362500</td>\n",
       "      <td>1.602500</td>\n",
       "      <td>2.210000</td>\n",
       "      <td>17.200000</td>\n",
       "      <td>88.000000</td>\n",
       "      <td>1.742500</td>\n",
       "      <td>1.205000</td>\n",
       "      <td>0.270000</td>\n",
       "      <td>1.250000</td>\n",
       "      <td>3.220000</td>\n",
       "      <td>0.782500</td>\n",
       "      <td>1.937500</td>\n",
       "      <td>500.500000</td>\n",
       "      <td>0.000000</td>\n",
       "    </tr>\n",
       "    <tr>\n",
       "      <th>50%</th>\n",
       "      <td>13.050000</td>\n",
       "      <td>1.865000</td>\n",
       "      <td>2.360000</td>\n",
       "      <td>19.500000</td>\n",
       "      <td>98.000000</td>\n",
       "      <td>2.355000</td>\n",
       "      <td>2.135000</td>\n",
       "      <td>0.340000</td>\n",
       "      <td>1.555000</td>\n",
       "      <td>4.690000</td>\n",
       "      <td>0.965000</td>\n",
       "      <td>2.780000</td>\n",
       "      <td>673.500000</td>\n",
       "      <td>1.000000</td>\n",
       "    </tr>\n",
       "    <tr>\n",
       "      <th>75%</th>\n",
       "      <td>13.677500</td>\n",
       "      <td>3.082500</td>\n",
       "      <td>2.557500</td>\n",
       "      <td>21.500000</td>\n",
       "      <td>107.000000</td>\n",
       "      <td>2.800000</td>\n",
       "      <td>2.875000</td>\n",
       "      <td>0.437500</td>\n",
       "      <td>1.950000</td>\n",
       "      <td>6.200000</td>\n",
       "      <td>1.120000</td>\n",
       "      <td>3.170000</td>\n",
       "      <td>985.000000</td>\n",
       "      <td>2.000000</td>\n",
       "    </tr>\n",
       "    <tr>\n",
       "      <th>max</th>\n",
       "      <td>14.830000</td>\n",
       "      <td>5.800000</td>\n",
       "      <td>3.230000</td>\n",
       "      <td>30.000000</td>\n",
       "      <td>162.000000</td>\n",
       "      <td>3.880000</td>\n",
       "      <td>5.080000</td>\n",
       "      <td>0.660000</td>\n",
       "      <td>3.580000</td>\n",
       "      <td>13.000000</td>\n",
       "      <td>1.710000</td>\n",
       "      <td>4.000000</td>\n",
       "      <td>1680.000000</td>\n",
       "      <td>2.000000</td>\n",
       "    </tr>\n",
       "  </tbody>\n",
       "</table>\n",
       "</div>"
      ],
      "text/plain": [
       "          alcohol  malic_acid         ash  alcalinity_of_ash   magnesium  \\\n",
       "count  178.000000  178.000000  178.000000         178.000000  178.000000   \n",
       "mean    13.000618    2.336348    2.366517          19.494944   99.741573   \n",
       "std      0.811827    1.117146    0.274344           3.339564   14.282484   \n",
       "min     11.030000    0.740000    1.360000          10.600000   70.000000   \n",
       "25%     12.362500    1.602500    2.210000          17.200000   88.000000   \n",
       "50%     13.050000    1.865000    2.360000          19.500000   98.000000   \n",
       "75%     13.677500    3.082500    2.557500          21.500000  107.000000   \n",
       "max     14.830000    5.800000    3.230000          30.000000  162.000000   \n",
       "\n",
       "       total_phenols  flavanoids  nonflavanoid_phenols  proanthocyanins  \\\n",
       "count     178.000000  178.000000            178.000000       178.000000   \n",
       "mean        2.295112    2.029270              0.361854         1.590899   \n",
       "std         0.625851    0.998859              0.124453         0.572359   \n",
       "min         0.980000    0.340000              0.130000         0.410000   \n",
       "25%         1.742500    1.205000              0.270000         1.250000   \n",
       "50%         2.355000    2.135000              0.340000         1.555000   \n",
       "75%         2.800000    2.875000              0.437500         1.950000   \n",
       "max         3.880000    5.080000              0.660000         3.580000   \n",
       "\n",
       "       color_intensity         hue  od280/od315_of_diluted_wines      proline  \\\n",
       "count       178.000000  178.000000                    178.000000   178.000000   \n",
       "mean          5.058090    0.957449                      2.611685   746.893258   \n",
       "std           2.318286    0.228572                      0.709990   314.907474   \n",
       "min           1.280000    0.480000                      1.270000   278.000000   \n",
       "25%           3.220000    0.782500                      1.937500   500.500000   \n",
       "50%           4.690000    0.965000                      2.780000   673.500000   \n",
       "75%           6.200000    1.120000                      3.170000   985.000000   \n",
       "max          13.000000    1.710000                      4.000000  1680.000000   \n",
       "\n",
       "           TARGET  \n",
       "count  178.000000  \n",
       "mean     0.938202  \n",
       "std      0.775035  \n",
       "min      0.000000  \n",
       "25%      0.000000  \n",
       "50%      1.000000  \n",
       "75%      2.000000  \n",
       "max      2.000000  "
      ]
     },
     "execution_count": 4,
     "metadata": {},
     "output_type": "execute_result"
    },
    {
     "data": {
      "text/html": [
       "<div>\n",
       "<style scoped>\n",
       "    .dataframe tbody tr th:only-of-type {\n",
       "        vertical-align: middle;\n",
       "    }\n",
       "\n",
       "    .dataframe tbody tr th {\n",
       "        vertical-align: top;\n",
       "    }\n",
       "\n",
       "    .dataframe thead th {\n",
       "        text-align: right;\n",
       "    }\n",
       "</style>\n",
       "<table border=\"1\" class=\"dataframe\">\n",
       "  <thead>\n",
       "    <tr style=\"text-align: right;\">\n",
       "      <th></th>\n",
       "      <th>alcohol</th>\n",
       "    </tr>\n",
       "    <tr>\n",
       "      <th>TARGET</th>\n",
       "      <th></th>\n",
       "    </tr>\n",
       "  </thead>\n",
       "  <tbody>\n",
       "    <tr>\n",
       "      <th>0</th>\n",
       "      <td>59</td>\n",
       "    </tr>\n",
       "    <tr>\n",
       "      <th>1</th>\n",
       "      <td>71</td>\n",
       "    </tr>\n",
       "    <tr>\n",
       "      <th>2</th>\n",
       "      <td>48</td>\n",
       "    </tr>\n",
       "  </tbody>\n",
       "</table>\n",
       "</div>"
      ],
      "text/plain": [
       "        alcohol\n",
       "TARGET         \n",
       "0            59\n",
       "1            71\n",
       "2            48"
      ]
     },
     "execution_count": 4,
     "metadata": {},
     "output_type": "execute_result"
    },
    {
     "data": {
      "text/plain": [
       "<matplotlib.axes._subplots.AxesSubplot at 0x1dc30eb8b08>"
      ]
     },
     "execution_count": 4,
     "metadata": {},
     "output_type": "execute_result"
    },
    {
     "data": {
      "image/png": "[encoded data removed]",
      "text/plain": [
       "<Figure size 576x396 with 1 Axes>"
      ]
     },
     "metadata": {},
     "output_type": "display_data"
    }
   ],
   "source": [
    "wine_df = pd.DataFrame(wine.data, columns=wine.feature_names)\n",
    "wine_df['TARGET'] = wine.target\n",
    "wine_df.head()\n",
    "\n",
    "wine_df.describe()\n",
    "\n",
    "wine_df[[\"TARGET\", \"alcohol\"]].groupby(\"TARGET\").count()\n",
    "\n",
    "sns.distplot(wine_df[\"TARGET\"],bins=3, kde=False)\n"
   ]
  },
  {
   "cell_type": "code",
   "execution_count": 5,
   "metadata": {},
   "outputs": [
    {
     "data": {
      "text/plain": [
       "<matplotlib.axes._subplots.AxesSubplot at 0x1dc30fae108>"
      ]
     },
     "execution_count": 5,
     "metadata": {},
     "output_type": "execute_result"
    },
    {
     "data": {
      "text/plain": [
       "<matplotlib.axes._subplots.AxesSubplot at 0x1dc30fae108>"
      ]
     },
     "execution_count": 5,
     "metadata": {},
     "output_type": "execute_result"
    },
    {
     "data": {
      "text/plain": [
       "<matplotlib.axes._subplots.AxesSubplot at 0x1dc30fae108>"
      ]
     },
     "execution_count": 5,
     "metadata": {},
     "output_type": "execute_result"
    },
    {
     "data": {
      "text/plain": [
       "<matplotlib.legend.Legend at 0x1dc30ffda48>"
      ]
     },
     "execution_count": 5,
     "metadata": {},
     "output_type": "execute_result"
    },
    {
     "data": {
      "image/png": "[encoded data removed]",
      "text/plain": [
       "<Figure size 576x396 with 1 Axes>"
      ]
     },
     "metadata": {},
     "output_type": "display_data"
    }
   ],
   "source": [
    "# let's plot the alcohol percentage for each class of wine\n",
    "\n",
    "for i in wine_df[\"TARGET\"].unique():\n",
    "    sns.distplot(wine_df[\"alcohol\"][wine_df[\"TARGET\"]==i], label=f'class{i:d}')\n",
    "plt.legend()\n"
   ]
  },
  {
   "cell_type": "code",
   "execution_count": 6,
   "metadata": {
    "scrolled": false
   },
   "outputs": [
    {
     "data": {
      "text/html": [
       "<div>\n",
       "<style scoped>\n",
       "    .dataframe tbody tr th:only-of-type {\n",
       "        vertical-align: middle;\n",
       "    }\n",
       "\n",
       "    .dataframe tbody tr th {\n",
       "        vertical-align: top;\n",
       "    }\n",
       "\n",
       "    .dataframe thead th {\n",
       "        text-align: right;\n",
       "    }\n",
       "</style>\n",
       "<table border=\"1\" class=\"dataframe\">\n",
       "  <thead>\n",
       "    <tr style=\"text-align: right;\">\n",
       "      <th></th>\n",
       "      <th>alcohol</th>\n",
       "      <th>malic_acid</th>\n",
       "      <th>ash</th>\n",
       "      <th>alcalinity_of_ash</th>\n",
       "      <th>magnesium</th>\n",
       "      <th>total_phenols</th>\n",
       "      <th>flavanoids</th>\n",
       "      <th>nonflavanoid_phenols</th>\n",
       "      <th>proanthocyanins</th>\n",
       "      <th>color_intensity</th>\n",
       "      <th>hue</th>\n",
       "      <th>od280/od315_of_diluted_wines</th>\n",
       "      <th>proline</th>\n",
       "    </tr>\n",
       "  </thead>\n",
       "  <tbody>\n",
       "    <tr>\n",
       "      <th>0</th>\n",
       "      <td>0.842105</td>\n",
       "      <td>0.191700</td>\n",
       "      <td>0.572193</td>\n",
       "      <td>0.257732</td>\n",
       "      <td>0.619565</td>\n",
       "      <td>0.627586</td>\n",
       "      <td>0.573840</td>\n",
       "      <td>0.283019</td>\n",
       "      <td>0.593060</td>\n",
       "      <td>0.372014</td>\n",
       "      <td>0.455285</td>\n",
       "      <td>0.970696</td>\n",
       "      <td>0.561341</td>\n",
       "    </tr>\n",
       "    <tr>\n",
       "      <th>1</th>\n",
       "      <td>0.571053</td>\n",
       "      <td>0.205534</td>\n",
       "      <td>0.417112</td>\n",
       "      <td>0.030928</td>\n",
       "      <td>0.326087</td>\n",
       "      <td>0.575862</td>\n",
       "      <td>0.510549</td>\n",
       "      <td>0.245283</td>\n",
       "      <td>0.274448</td>\n",
       "      <td>0.264505</td>\n",
       "      <td>0.463415</td>\n",
       "      <td>0.780220</td>\n",
       "      <td>0.550642</td>\n",
       "    </tr>\n",
       "    <tr>\n",
       "      <th>2</th>\n",
       "      <td>0.560526</td>\n",
       "      <td>0.320158</td>\n",
       "      <td>0.700535</td>\n",
       "      <td>0.412371</td>\n",
       "      <td>0.336957</td>\n",
       "      <td>0.627586</td>\n",
       "      <td>0.611814</td>\n",
       "      <td>0.320755</td>\n",
       "      <td>0.757098</td>\n",
       "      <td>0.375427</td>\n",
       "      <td>0.447154</td>\n",
       "      <td>0.695971</td>\n",
       "      <td>0.646933</td>\n",
       "    </tr>\n",
       "    <tr>\n",
       "      <th>3</th>\n",
       "      <td>0.878947</td>\n",
       "      <td>0.239130</td>\n",
       "      <td>0.609626</td>\n",
       "      <td>0.319588</td>\n",
       "      <td>0.467391</td>\n",
       "      <td>0.989655</td>\n",
       "      <td>0.664557</td>\n",
       "      <td>0.207547</td>\n",
       "      <td>0.558360</td>\n",
       "      <td>0.556314</td>\n",
       "      <td>0.308943</td>\n",
       "      <td>0.798535</td>\n",
       "      <td>0.857347</td>\n",
       "    </tr>\n",
       "    <tr>\n",
       "      <th>4</th>\n",
       "      <td>0.581579</td>\n",
       "      <td>0.365613</td>\n",
       "      <td>0.807487</td>\n",
       "      <td>0.536082</td>\n",
       "      <td>0.521739</td>\n",
       "      <td>0.627586</td>\n",
       "      <td>0.495781</td>\n",
       "      <td>0.490566</td>\n",
       "      <td>0.444795</td>\n",
       "      <td>0.259386</td>\n",
       "      <td>0.455285</td>\n",
       "      <td>0.608059</td>\n",
       "      <td>0.325963</td>\n",
       "    </tr>\n",
       "  </tbody>\n",
       "</table>\n",
       "</div>"
      ],
      "text/plain": [
       "    alcohol  malic_acid       ash  alcalinity_of_ash  magnesium  \\\n",
       "0  0.842105    0.191700  0.572193           0.257732   0.619565   \n",
       "1  0.571053    0.205534  0.417112           0.030928   0.326087   \n",
       "2  0.560526    0.320158  0.700535           0.412371   0.336957   \n",
       "3  0.878947    0.239130  0.609626           0.319588   0.467391   \n",
       "4  0.581579    0.365613  0.807487           0.536082   0.521739   \n",
       "\n",
       "   total_phenols  flavanoids  nonflavanoid_phenols  proanthocyanins  \\\n",
       "0       0.627586    0.573840              0.283019         0.593060   \n",
       "1       0.575862    0.510549              0.245283         0.274448   \n",
       "2       0.627586    0.611814              0.320755         0.757098   \n",
       "3       0.989655    0.664557              0.207547         0.558360   \n",
       "4       0.627586    0.495781              0.490566         0.444795   \n",
       "\n",
       "   color_intensity       hue  od280/od315_of_diluted_wines   proline  \n",
       "0         0.372014  0.455285                      0.970696  0.561341  \n",
       "1         0.264505  0.463415                      0.780220  0.550642  \n",
       "2         0.375427  0.447154                      0.695971  0.646933  \n",
       "3         0.556314  0.308943                      0.798535  0.857347  \n",
       "4         0.259386  0.455285                      0.608059  0.325963  "
      ]
     },
     "execution_count": 6,
     "metadata": {},
     "output_type": "execute_result"
    }
   ],
   "source": [
    "# Kmeans relies in a distance metric, therefore we need to rescale all features to the same scale \n",
    "\n",
    "X = wine_df.drop(['TARGET'], axis=1)\n",
    "y = wine_df['TARGET']\n",
    "\n",
    "min_max_scaler = preprocessing.MinMaxScaler()  # by default between 0 and 1\n",
    "\n",
    "x_scaled_fit = min_max_scaler.fit(X)\n",
    "\n",
    "x_scaled = min_max_scaler.fit_transform(X)\n",
    "X_scaled = pd.DataFrame(x_scaled,columns=X.columns)\n",
    "X_scaled.head()\n"
   ]
  },
  {
   "cell_type": "code",
   "execution_count": 7,
   "metadata": {},
   "outputs": [
    {
     "data": {
      "text/plain": [
       "<Figure size 864x648 with 0 Axes>"
      ]
     },
     "execution_count": 7,
     "metadata": {},
     "output_type": "execute_result"
    },
    {
     "name": "stderr",
     "output_type": "stream",
     "text": [
      "C:\\Users\\duart\\AppData\\Local\\conda\\conda\\envs\\testEnv\\lib\\site-packages\\sklearn\\base.py:197: FutureWarning: From version 0.24, get_params will raise an AttributeError if a parameter cannot be retrieved as an instance attribute. Previously it would return None.\n",
      "  FutureWarning)\n"
     ]
    },
    {
     "data": {
      "text/plain": [
       "KElbowVisualizer(ax=<matplotlib.axes._subplots.AxesSubplot object at 0x000001DC3107AAC8>,\n",
       "                 k=None, locate_elbow=True, metric='distortion', model=None,\n",
       "                 timings=True)"
      ]
     },
     "execution_count": 7,
     "metadata": {},
     "output_type": "execute_result"
    },
    {
     "data": {
      "image/png": "[encoded data removed]",
      "text/plain": [
       "<Figure size 864x648 with 2 Axes>"
      ]
     },
     "metadata": {},
     "output_type": "display_data"
    },
    {
     "data": {
      "text/plain": [
       "<matplotlib.axes._subplots.AxesSubplot at 0x1dc3107aac8>"
      ]
     },
     "execution_count": 7,
     "metadata": {},
     "output_type": "execute_result"
    }
   ],
   "source": [
    "# Elbow method\n",
    "\n",
    "min_max_scaler = preprocessing.MinMaxScaler()\n",
    "\n",
    "x_scaled = min_max_scaler.fit_transform(X)\n",
    "X_scaled = pd.DataFrame(x_scaled,columns=X.columns)\n",
    "\n",
    "plt.figure(figsize=(12,9))\n",
    "\n",
    "# Now we apply KMeans\n",
    "model = KMeans()\n",
    "\n",
    "# we want first to find out how many clusters using the elbow technique\n",
    "visualizer = KElbowVisualizer(model, k=(1,8))\n",
    "visualizer.fit(X_scaled)      \n",
    "visualizer.show()\n",
    "\n",
    "\n",
    "# we know that there are 3 wine types (target=[0,1,2]) \n",
    "# and the elbow method correctely chooses 3"
   ]
  },
  {
   "cell_type": "code",
   "execution_count": 8,
   "metadata": {},
   "outputs": [
    {
     "data": {
      "text/plain": [
       "<Figure size 864x648 with 0 Axes>"
      ]
     },
     "execution_count": 8,
     "metadata": {},
     "output_type": "execute_result"
    },
    {
     "name": "stderr",
     "output_type": "stream",
     "text": [
      "C:\\Users\\duart\\AppData\\Local\\conda\\conda\\envs\\testEnv\\lib\\site-packages\\sklearn\\base.py:197: FutureWarning: From version 0.24, get_params will raise an AttributeError if a parameter cannot be retrieved as an instance attribute. Previously it would return None.\n",
      "  FutureWarning)\n"
     ]
    },
    {
     "data": {
      "text/plain": [
       "SilhouetteVisualizer(ax=<matplotlib.axes._subplots.AxesSubplot object at 0x000001DC316B7088>,\n",
       "                     colors='yellowbrick', is_fitted='auto', model=None)"
      ]
     },
     "execution_count": 8,
     "metadata": {},
     "output_type": "execute_result"
    },
    {
     "data": {
      "image/png": "[encoded data removed]",
      "text/plain": [
       "<Figure size 864x648 with 1 Axes>"
      ]
     },
     "metadata": {},
     "output_type": "display_data"
    },
    {
     "data": {
      "text/plain": [
       "<matplotlib.axes._subplots.AxesSubplot at 0x1dc316b7088>"
      ]
     },
     "execution_count": 8,
     "metadata": {},
     "output_type": "execute_result"
    }
   ],
   "source": [
    "# Now we use Silhoutte to visualize the compactness of the clusters\n",
    "\n",
    "plt.figure(figsize=(12,9))\n",
    "\n",
    "#model = KMeans(3)\n",
    "#model=MiniBatchKMeans(n_clusters=3, verbose=True).fit(X_scaled)\n",
    "\n",
    "model=MiniBatchKMeans(n_clusters=3).fit(X_scaled)\n",
    "\n",
    "visualizer = SilhouetteVisualizer(model, colors='yellowbrick')\n",
    "visualizer.fit(X_scaled)      \n",
    "visualizer.show()"
   ]
  },
  {
   "cell_type": "code",
   "execution_count": 9,
   "metadata": {},
   "outputs": [
    {
     "data": {
      "text/plain": [
       "<Figure size 864x648 with 0 Axes>"
      ]
     },
     "execution_count": 9,
     "metadata": {},
     "output_type": "execute_result"
    },
    {
     "name": "stderr",
     "output_type": "stream",
     "text": [
      "C:\\Users\\duart\\AppData\\Local\\conda\\conda\\envs\\testEnv\\lib\\site-packages\\sklearn\\base.py:197: FutureWarning: From version 0.24, get_params will raise an AttributeError if a parameter cannot be retrieved as an instance attribute. Previously it would return None.\n",
      "  FutureWarning)\n"
     ]
    },
    {
     "data": {
      "text/plain": [
       "InterclusterDistance(ax=<matplotlib.axes._subplots.AxesSubplot object at 0x000001DC3137D408>,\n",
       "                     embedding='mds', is_fitted='auto', legend=True,\n",
       "                     legend_loc='lower left', legend_size=1.5, max_size=25000,\n",
       "                     min_size=10000, model=None, random_state=None,\n",
       "                     scoring='membership')"
      ]
     },
     "execution_count": 9,
     "metadata": {},
     "output_type": "execute_result"
    },
    {
     "data": {
      "image/png": "[encoded data removed]",
      "text/plain": [
       "<Figure size 864x648 with 2 Axes>"
      ]
     },
     "metadata": {},
     "output_type": "display_data"
    },
    {
     "data": {
      "text/plain": [
       "<matplotlib.axes._subplots.AxesSubplot at 0x1dc3137d408>"
      ]
     },
     "execution_count": 9,
     "metadata": {},
     "output_type": "execute_result"
    }
   ],
   "source": [
    "# Inter cluster distance \n",
    "\n",
    "plt.figure(figsize=(12,9))\n",
    "\n",
    "#model=MiniBatchKMeans(n_clusters=3).fit(X_scaled)\n",
    "\n",
    "visualizer = InterclusterDistance(model, min_size=10000)\n",
    "#visualizer = InterclusterDistance(model)\n",
    "visualizer.fit(X_scaled)\n",
    "visualizer.show()\n"
   ]
  },
  {
   "cell_type": "code",
   "execution_count": 10,
   "metadata": {},
   "outputs": [
    {
     "data": {
      "text/plain": [
       "<Figure size 864x648 with 0 Axes>"
      ]
     },
     "execution_count": 10,
     "metadata": {},
     "output_type": "execute_result"
    },
    {
     "name": "stderr",
     "output_type": "stream",
     "text": [
      "C:\\Users\\duart\\AppData\\Local\\conda\\conda\\envs\\testEnv\\lib\\site-packages\\sklearn\\base.py:197: FutureWarning: From version 0.24, get_params will raise an AttributeError if a parameter cannot be retrieved as an instance attribute. Previously it would return None.\n",
      "  FutureWarning)\n"
     ]
    },
    {
     "data": {
      "text/plain": [
       "LearningCurve(ax=<matplotlib.axes._subplots.AxesSubplot object at 0x000001DC318F2B48>,\n",
       "              cv=None, exploit_incremental_learning=False, groups=None,\n",
       "              model=None, n_jobs=1, pre_dispatch='all', random_state=None,\n",
       "              scoring='adjusted_rand_score', shuffle=False,\n",
       "              train_sizes=array([0.1  , 0.325, 0.55 , 0.775, 1.   ]))"
      ]
     },
     "execution_count": 10,
     "metadata": {},
     "output_type": "execute_result"
    },
    {
     "data": {
      "image/png": "[encoded data removed]",
      "text/plain": [
       "<Figure size 864x648 with 1 Axes>"
      ]
     },
     "metadata": {},
     "output_type": "display_data"
    },
    {
     "data": {
      "text/plain": [
       "<matplotlib.axes._subplots.AxesSubplot at 0x1dc318f2b48>"
      ]
     },
     "execution_count": 10,
     "metadata": {},
     "output_type": "execute_result"
    }
   ],
   "source": [
    "# Learning Curve\n",
    "\n",
    "plt.figure(figsize=(12,9))\n",
    "\n",
    "model = KMeans()\n",
    "\n",
    "visualizer = LearningCurve(model, scoring=\"adjusted_rand_score\")\n",
    "\n",
    "visualizer.fit(X_scaled, y)        # Fit the data to the visualizer\n",
    "visualizer.show()                  # Finalize and render the figure"
   ]
  },
  {
   "cell_type": "code",
   "execution_count": 11,
   "metadata": {},
   "outputs": [
    {
     "data": {
      "text/plain": [
       "MiniBatchKMeans(batch_size=100, compute_labels=True, init='k-means++',\n",
       "                init_size=None, max_iter=100, max_no_improvement=10,\n",
       "                n_clusters=3, n_init=3, random_state=None,\n",
       "                reassignment_ratio=0.01, tol=0.0, verbose=0)"
      ]
     },
     "execution_count": 11,
     "metadata": {},
     "output_type": "execute_result"
    },
    {
     "name": "stdout",
     "output_type": "stream",
     "text": [
      "Predicted labels ----\n",
      "[0 0 0 0 0 0 0 0 0 0 0 0 0 0 0 0 0 0 0 0 0 0 0 0 0 0 0 0 0 0 0 0 0 0 0 0 0\n",
      " 0 0 0 0 0 0 0 0 0 0 0 0 0 0 0 0 0 0 0 0 0 0 2 2 1 2 2 2 2 0 2 2 2 1 0 2 0\n",
      " 0 2 2 2 2 2 2 2 2 1 2 2 2 2 2 2 2 2 2 2 2 0 2 2 0 2 2 2 2 2 2 2 2 2 2 2 2\n",
      " 2 2 2 2 2 2 2 1 2 2 2 2 2 2 2 2 2 2 2 1 1 1 1 1 1 1 1 1 1 1 1 1 1 1 1 1 1\n",
      " 1 1 1 1 1 1 1 1 1 1 1 1 1 1 1 1 1 1 1 1 1 1 1 1 1 1 1 1 1 1]\n",
      "\n",
      "Actual    labels ----\n",
      "[0 0 0 0 0 0 0 0 0 0 0 0 0 0 0 0 0 0 0 0 0 0 0 0 0 0 0 0 0 0 0 0 0 0 0 0 0\n",
      " 0 0 0 0 0 0 0 0 0 0 0 0 0 0 0 0 0 0 0 0 0 0 1 1 1 1 1 1 1 1 1 1 1 1 1 1 1\n",
      " 1 1 1 1 1 1 1 1 1 1 1 1 1 1 1 1 1 1 1 1 1 1 1 1 1 1 1 1 1 1 1 1 1 1 1 1 1\n",
      " 1 1 1 1 1 1 1 1 1 1 1 1 1 1 1 1 1 1 1 2 2 2 2 2 2 2 2 2 2 2 2 2 2 2 2 2 2\n",
      " 2 2 2 2 2 2 2 2 2 2 2 2 2 2 2 2 2 2 2 2 2 2 2 2 2 2 2 2 2 2]\n",
      "\n",
      " ---- Watch the labels ----\n",
      "Accuracy 35.393\n"
     ]
    }
   ],
   "source": [
    "# Can we calculate accuracy ???\n",
    "\n",
    "model=KMeans(3)\n",
    "model=MiniBatchKMeans(n_clusters=3)\n",
    "\n",
    "model.fit(X_scaled)\n",
    "\n",
    "print(\"Predicted labels ----\")\n",
    "print(model.predict(X_scaled))\n",
    "print()\n",
    "print(\"Actual    labels ----\")\n",
    "print(y.values)\n",
    "print()\n",
    "\n",
    "print(\" ---- Watch the labels ----\")\n",
    "\n",
    "acc_score=accuracy_score(y.values,model.predict(X_scaled))\n",
    "print(f'Accuracy {acc_score*100:.3f}')\n"
   ]
  },
  {
   "cell_type": "markdown",
   "metadata": {},
   "source": [
    "<h3>Silhouette score</h3>\n",
    "\n",
    "The silhouette value is a measure of how similar an object is to its own cluster (cohesion) compared to other clusters (separation). \n",
    "\n",
    "The silhouette ranges from −1 to +1, where a high value indicates that the object is well matched to its own cluster and poorly matched to neighboring clusters. If most objects have a high value, then the clustering configuration is appropriate. \n",
    "\n",
    "If many points have a low or negative value, then the clustering configuration may have too many or too few clusters.\n",
    "<p style=\"margin-left:200px\"><b>\n",
    "    a : mean distance between a sample and all other points in the same class. <br>\n",
    "    b : mean distance between a sample and all other points in the next nearest cluster.\n",
    "</b></p>\n",
    "<br>\n",
    "<p><b>\n",
    "$$\\large{s=\\frac{b-a}{max(a,b}}$$\n",
    "</b></p>"
   ]
  },
  {
   "cell_type": "code",
   "execution_count": 12,
   "metadata": {},
   "outputs": [
    {
     "name": "stdout",
     "output_type": "stream",
     "text": [
      "Silhouette score 0.299834\n"
     ]
    }
   ],
   "source": [
    "# Silhouette score\n",
    "\n",
    "from sklearn import metrics\n",
    "\n",
    "she=metrics.silhouette_score(X_scaled, model.labels_, metric=\"euclidean\")\n",
    "print(f'Silhouette score {she:5f}')"
   ]
  },
  {
   "cell_type": "code",
   "execution_count": 13,
   "metadata": {},
   "outputs": [
    {
     "data": {
      "text/plain": [
       "array([0, 0, 0, 0, 0, 0, 0, 0, 0, 0, 0, 0, 0, 0, 0, 0, 0, 0, 0, 0, 0, 0,\n",
       "       0, 0, 0, 0, 0, 0, 0, 0, 0, 0, 0, 0, 0, 0, 0, 0, 0, 0, 0, 0, 0, 0,\n",
       "       0, 0, 0, 0, 0, 0, 0, 0, 0, 0, 0, 0, 0, 0, 0, 2, 2, 1, 2, 2, 2, 2,\n",
       "       0, 2, 2, 2, 1, 0, 2, 0, 0, 2, 2, 2, 2, 2, 2, 2, 2, 1, 2, 2, 2, 2,\n",
       "       2, 2, 2, 2, 2, 2, 2, 0, 2, 2, 0, 2, 2, 2, 2, 2, 2, 2, 2, 2, 2, 2,\n",
       "       2, 2, 2, 2, 2, 2, 2, 2, 1, 2, 2, 2, 2, 2, 2, 2, 2, 2, 2, 2, 1, 1,\n",
       "       1, 1, 1, 1, 1, 1, 1, 1, 1, 1, 1, 1, 1, 1, 1, 1, 1, 1, 1, 1, 1, 1,\n",
       "       1, 1, 1, 1, 1, 1, 1, 1, 1, 1, 1, 1, 1, 1, 1, 1, 1, 1, 1, 1, 1, 1,\n",
       "       1, 1])"
      ]
     },
     "execution_count": 13,
     "metadata": {},
     "output_type": "execute_result"
    },
    {
     "data": {
      "text/plain": [
       "array([[0.69026222, 0.23793205, 0.56635188, 0.34997624, 0.40970937,\n",
       "        0.65089875, 0.55909791, 0.28867255, 0.49122424, 0.35338302,\n",
       "        0.47823329, 0.69065804, 0.55893303],\n",
       "       [0.54817161, 0.50016673, 0.56539855, 0.54664757, 0.32417197,\n",
       "        0.2334902 , 0.10588833, 0.57451192, 0.23660872, 0.51232861,\n",
       "        0.16914604, 0.14738363, 0.24510359],\n",
       "       [0.29874858, 0.24951463, 0.47775673, 0.50940142, 0.25425423,\n",
       "        0.42614886, 0.36180815, 0.45500868, 0.37967244, 0.14006031,\n",
       "        0.4563028 , 0.57456112, 0.15740443]])"
      ]
     },
     "execution_count": 13,
     "metadata": {},
     "output_type": "execute_result"
    },
    {
     "data": {
      "text/html": [
       "<div>\n",
       "<style scoped>\n",
       "    .dataframe tbody tr th:only-of-type {\n",
       "        vertical-align: middle;\n",
       "    }\n",
       "\n",
       "    .dataframe tbody tr th {\n",
       "        vertical-align: top;\n",
       "    }\n",
       "\n",
       "    .dataframe thead th {\n",
       "        text-align: right;\n",
       "    }\n",
       "</style>\n",
       "<table border=\"1\" class=\"dataframe\">\n",
       "  <thead>\n",
       "    <tr style=\"text-align: right;\">\n",
       "      <th></th>\n",
       "      <th>alcohol</th>\n",
       "      <th>malic_acid</th>\n",
       "      <th>ash</th>\n",
       "      <th>alcalinity_of_ash</th>\n",
       "      <th>magnesium</th>\n",
       "      <th>total_phenols</th>\n",
       "      <th>flavanoids</th>\n",
       "      <th>nonflavanoid_phenols</th>\n",
       "      <th>proanthocyanins</th>\n",
       "      <th>color_intensity</th>\n",
       "      <th>hue</th>\n",
       "      <th>od280/od315_of_diluted_wines</th>\n",
       "      <th>proline</th>\n",
       "    </tr>\n",
       "  </thead>\n",
       "  <tbody>\n",
       "    <tr>\n",
       "      <th>0</th>\n",
       "      <td>0.690262</td>\n",
       "      <td>0.237932</td>\n",
       "      <td>0.566352</td>\n",
       "      <td>0.349976</td>\n",
       "      <td>0.409709</td>\n",
       "      <td>0.650899</td>\n",
       "      <td>0.559098</td>\n",
       "      <td>0.288673</td>\n",
       "      <td>0.491224</td>\n",
       "      <td>0.353383</td>\n",
       "      <td>0.478233</td>\n",
       "      <td>0.690658</td>\n",
       "      <td>0.558933</td>\n",
       "    </tr>\n",
       "    <tr>\n",
       "      <th>1</th>\n",
       "      <td>0.548172</td>\n",
       "      <td>0.500167</td>\n",
       "      <td>0.565399</td>\n",
       "      <td>0.546648</td>\n",
       "      <td>0.324172</td>\n",
       "      <td>0.233490</td>\n",
       "      <td>0.105888</td>\n",
       "      <td>0.574512</td>\n",
       "      <td>0.236609</td>\n",
       "      <td>0.512329</td>\n",
       "      <td>0.169146</td>\n",
       "      <td>0.147384</td>\n",
       "      <td>0.245104</td>\n",
       "    </tr>\n",
       "    <tr>\n",
       "      <th>2</th>\n",
       "      <td>0.298749</td>\n",
       "      <td>0.249515</td>\n",
       "      <td>0.477757</td>\n",
       "      <td>0.509401</td>\n",
       "      <td>0.254254</td>\n",
       "      <td>0.426149</td>\n",
       "      <td>0.361808</td>\n",
       "      <td>0.455009</td>\n",
       "      <td>0.379672</td>\n",
       "      <td>0.140060</td>\n",
       "      <td>0.456303</td>\n",
       "      <td>0.574561</td>\n",
       "      <td>0.157404</td>\n",
       "    </tr>\n",
       "  </tbody>\n",
       "</table>\n",
       "</div>"
      ],
      "text/plain": [
       "    alcohol  malic_acid       ash  alcalinity_of_ash  magnesium  \\\n",
       "0  0.690262    0.237932  0.566352           0.349976   0.409709   \n",
       "1  0.548172    0.500167  0.565399           0.546648   0.324172   \n",
       "2  0.298749    0.249515  0.477757           0.509401   0.254254   \n",
       "\n",
       "   total_phenols  flavanoids  nonflavanoid_phenols  proanthocyanins  \\\n",
       "0       0.650899    0.559098              0.288673         0.491224   \n",
       "1       0.233490    0.105888              0.574512         0.236609   \n",
       "2       0.426149    0.361808              0.455009         0.379672   \n",
       "\n",
       "   color_intensity       hue  od280/od315_of_diluted_wines   proline  \n",
       "0         0.353383  0.478233                      0.690658  0.558933  \n",
       "1         0.512329  0.169146                      0.147384  0.245104  \n",
       "2         0.140060  0.456303                      0.574561  0.157404  "
      ]
     },
     "execution_count": 13,
     "metadata": {},
     "output_type": "execute_result"
    },
    {
     "data": {
      "text/html": [
       "<div>\n",
       "<style scoped>\n",
       "    .dataframe tbody tr th:only-of-type {\n",
       "        vertical-align: middle;\n",
       "    }\n",
       "\n",
       "    .dataframe tbody tr th {\n",
       "        vertical-align: top;\n",
       "    }\n",
       "\n",
       "    .dataframe thead th {\n",
       "        text-align: right;\n",
       "    }\n",
       "</style>\n",
       "<table border=\"1\" class=\"dataframe\">\n",
       "  <thead>\n",
       "    <tr style=\"text-align: right;\">\n",
       "      <th></th>\n",
       "      <th>alcohol</th>\n",
       "      <th>malic_acid</th>\n",
       "      <th>ash</th>\n",
       "      <th>alcalinity_of_ash</th>\n",
       "      <th>magnesium</th>\n",
       "      <th>total_phenols</th>\n",
       "      <th>flavanoids</th>\n",
       "      <th>nonflavanoid_phenols</th>\n",
       "      <th>proanthocyanins</th>\n",
       "      <th>color_intensity</th>\n",
       "      <th>hue</th>\n",
       "      <th>od280/od315_of_diluted_wines</th>\n",
       "      <th>proline</th>\n",
       "    </tr>\n",
       "  </thead>\n",
       "  <tbody>\n",
       "    <tr>\n",
       "      <th>0</th>\n",
       "      <td>13.652996</td>\n",
       "      <td>1.943936</td>\n",
       "      <td>2.419078</td>\n",
       "      <td>17.389539</td>\n",
       "      <td>107.693262</td>\n",
       "      <td>2.867606</td>\n",
       "      <td>2.990124</td>\n",
       "      <td>0.282996</td>\n",
       "      <td>1.967181</td>\n",
       "      <td>5.421649</td>\n",
       "      <td>1.068227</td>\n",
       "      <td>3.155496</td>\n",
       "      <td>1061.624113</td>\n",
       "    </tr>\n",
       "    <tr>\n",
       "      <th>1</th>\n",
       "      <td>13.113052</td>\n",
       "      <td>3.270844</td>\n",
       "      <td>2.417295</td>\n",
       "      <td>21.204963</td>\n",
       "      <td>99.823821</td>\n",
       "      <td>1.657122</td>\n",
       "      <td>0.841911</td>\n",
       "      <td>0.434491</td>\n",
       "      <td>1.160050</td>\n",
       "      <td>7.284491</td>\n",
       "      <td>0.688050</td>\n",
       "      <td>1.672357</td>\n",
       "      <td>621.635236</td>\n",
       "    </tr>\n",
       "    <tr>\n",
       "      <th>2</th>\n",
       "      <td>12.165245</td>\n",
       "      <td>2.002544</td>\n",
       "      <td>2.253405</td>\n",
       "      <td>20.482387</td>\n",
       "      <td>93.391389</td>\n",
       "      <td>2.215832</td>\n",
       "      <td>2.054971</td>\n",
       "      <td>0.371155</td>\n",
       "      <td>1.613562</td>\n",
       "      <td>2.921507</td>\n",
       "      <td>1.041252</td>\n",
       "      <td>2.838552</td>\n",
       "      <td>498.681018</td>\n",
       "    </tr>\n",
       "  </tbody>\n",
       "</table>\n",
       "</div>"
      ],
      "text/plain": [
       "     alcohol  malic_acid       ash  alcalinity_of_ash   magnesium  \\\n",
       "0  13.652996    1.943936  2.419078          17.389539  107.693262   \n",
       "1  13.113052    3.270844  2.417295          21.204963   99.823821   \n",
       "2  12.165245    2.002544  2.253405          20.482387   93.391389   \n",
       "\n",
       "   total_phenols  flavanoids  nonflavanoid_phenols  proanthocyanins  \\\n",
       "0       2.867606    2.990124              0.282996         1.967181   \n",
       "1       1.657122    0.841911              0.434491         1.160050   \n",
       "2       2.215832    2.054971              0.371155         1.613562   \n",
       "\n",
       "   color_intensity       hue  od280/od315_of_diluted_wines      proline  \n",
       "0         5.421649  1.068227                      3.155496  1061.624113  \n",
       "1         7.284491  0.688050                      1.672357   621.635236  \n",
       "2         2.921507  1.041252                      2.838552   498.681018  "
      ]
     },
     "execution_count": 13,
     "metadata": {},
     "output_type": "execute_result"
    }
   ],
   "source": [
    "# Centroids\n",
    "\n",
    "model.labels_\n",
    "model.cluster_centers_\n",
    "\n",
    "pd.DataFrame(model.cluster_centers_, columns=X.columns)\n",
    "\n",
    "# BECAUSE WE SCALED WE HAVE TO BRING IT BACK TO THE ORIGINAL RANGES\n",
    "\n",
    "pd.DataFrame(x_scaled_fit.inverse_transform(model.cluster_centers_),columns=X.columns)\n",
    "\n",
    "# --- Now with these values we can have an interpretation of what each cluster means ---"
   ]
  },
  {
   "cell_type": "markdown",
   "metadata": {},
   "source": [
    "<h1>Agglomerative Hierarchical Clustering</h1>\n",
    "\n",
    "Agglomerative hierarchical clustering differs from k-means in a key way. \n",
    "Rather than choosing a number of clusters and starting out with random centroids, we instead begin \n",
    "with every point in our dataset as a “cluster.” Then we \u0000nd the two closest points and combine them into a cluster. \n",
    "Then, we \u0000nd the next closest points, and those become a cluster. \n",
    "\n",
    "We repeat the process until we only have one big giant cluster.\n",
    "\n",
    "<img src=\"dendrogram.png\">"
   ]
  },
  {
   "cell_type": "code",
   "execution_count": 14,
   "metadata": {},
   "outputs": [
    {
     "data": {
      "text/plain": [
       "<Figure size 1224x648 with 0 Axes>"
      ]
     },
     "execution_count": 14,
     "metadata": {},
     "output_type": "execute_result"
    },
    {
     "data": {
      "image/png": "[encoded data removed]",
      "text/plain": [
       "<Figure size 1224x648 with 1 Axes>"
      ]
     },
     "metadata": {},
     "output_type": "display_data"
    },
    {
     "name": "stdout",
     "output_type": "stream",
     "text": [
      "predictions --- \n"
     ]
    },
    {
     "data": {
      "text/plain": [
       "array([2, 2, 2, 2, 0, 2, 2, 2, 2, 2, 2, 2, 2, 2, 2, 2, 2, 2, 2, 2, 2, 2,\n",
       "       2, 2, 2, 0, 2, 2, 2, 2, 2, 2, 2, 2, 2, 2, 2, 2, 2, 2, 2, 2, 2, 2,\n",
       "       2, 2, 2, 2, 2, 2, 2, 2, 2, 2, 2, 2, 2, 2, 2, 0, 0, 0, 0, 0, 0, 0,\n",
       "       0, 0, 0, 0, 0, 0, 0, 0, 0, 0, 0, 0, 0, 0, 0, 0, 0, 1, 0, 0, 0, 0,\n",
       "       0, 0, 0, 0, 0, 0, 0, 0, 0, 0, 0, 0, 0, 0, 0, 0, 0, 0, 0, 0, 0, 0,\n",
       "       0, 0, 0, 0, 0, 0, 0, 0, 1, 0, 0, 0, 0, 0, 0, 0, 0, 0, 0, 0, 1, 1,\n",
       "       1, 1, 1, 1, 1, 1, 1, 1, 1, 1, 1, 1, 1, 1, 1, 1, 1, 1, 1, 1, 1, 1,\n",
       "       1, 1, 1, 1, 1, 1, 1, 1, 1, 1, 1, 1, 1, 1, 1, 1, 1, 1, 1, 1, 1, 1,\n",
       "       1, 1], dtype=int64)"
      ]
     },
     "execution_count": 14,
     "metadata": {},
     "output_type": "execute_result"
    },
    {
     "name": "stdout",
     "output_type": "stream",
     "text": [
      "labels --- \n"
     ]
    },
    {
     "data": {
      "text/plain": [
       "array([2, 2, 2, 2, 0, 2, 2, 2, 2, 2, 2, 2, 2, 2, 2, 2, 2, 2, 2, 2, 2, 2,\n",
       "       2, 2, 2, 0, 2, 2, 2, 2, 2, 2, 2, 2, 2, 2, 2, 2, 2, 2, 2, 2, 2, 2,\n",
       "       2, 2, 2, 2, 2, 2, 2, 2, 2, 2, 2, 2, 2, 2, 2, 0, 0, 0, 0, 0, 0, 0,\n",
       "       0, 0, 0, 0, 0, 0, 0, 0, 0, 0, 0, 0, 0, 0, 0, 0, 0, 1, 0, 0, 0, 0,\n",
       "       0, 0, 0, 0, 0, 0, 0, 0, 0, 0, 0, 0, 0, 0, 0, 0, 0, 0, 0, 0, 0, 0,\n",
       "       0, 0, 0, 0, 0, 0, 0, 0, 1, 0, 0, 0, 0, 0, 0, 0, 0, 0, 0, 0, 1, 1,\n",
       "       1, 1, 1, 1, 1, 1, 1, 1, 1, 1, 1, 1, 1, 1, 1, 1, 1, 1, 1, 1, 1, 1,\n",
       "       1, 1, 1, 1, 1, 1, 1, 1, 1, 1, 1, 1, 1, 1, 1, 1, 1, 1, 1, 1, 1, 1,\n",
       "       1, 1], dtype=int64)"
      ]
     },
     "execution_count": 14,
     "metadata": {},
     "output_type": "execute_result"
    },
    {
     "name": "stdout",
     "output_type": "stream",
     "text": [
      "pre-assigned labels --- \n"
     ]
    },
    {
     "data": {
      "text/plain": [
       "array([0, 0, 0, 0, 0, 0, 0, 0, 0, 0, 0, 0, 0, 0, 0, 0, 0, 0, 0, 0, 0, 0,\n",
       "       0, 0, 0, 0, 0, 0, 0, 0, 0, 0, 0, 0, 0, 0, 0, 0, 0, 0, 0, 0, 0, 0,\n",
       "       0, 0, 0, 0, 0, 0, 0, 0, 0, 0, 0, 0, 0, 0, 0, 1, 1, 1, 1, 1, 1, 1,\n",
       "       1, 1, 1, 1, 1, 1, 1, 1, 1, 1, 1, 1, 1, 1, 1, 1, 1, 1, 1, 1, 1, 1,\n",
       "       1, 1, 1, 1, 1, 1, 1, 1, 1, 1, 1, 1, 1, 1, 1, 1, 1, 1, 1, 1, 1, 1,\n",
       "       1, 1, 1, 1, 1, 1, 1, 1, 1, 1, 1, 1, 1, 1, 1, 1, 1, 1, 1, 1, 2, 2,\n",
       "       2, 2, 2, 2, 2, 2, 2, 2, 2, 2, 2, 2, 2, 2, 2, 2, 2, 2, 2, 2, 2, 2,\n",
       "       2, 2, 2, 2, 2, 2, 2, 2, 2, 2, 2, 2, 2, 2, 2, 2, 2, 2, 2, 2, 2, 2,\n",
       "       2, 2])"
      ]
     },
     "execution_count": 14,
     "metadata": {},
     "output_type": "execute_result"
    },
    {
     "name": "stdout",
     "output_type": "stream",
     "text": [
      "Accuracy 97.753\n"
     ]
    }
   ],
   "source": [
    " # import hierarchical clustering libraries\n",
    "import scipy.cluster.hierarchy as sch\n",
    "from sklearn.cluster import AgglomerativeClustering\n",
    "\n",
    "plt.figure(figsize=(17,9))\n",
    "\n",
    "# create dendrogram\n",
    "dn = sch.dendrogram(sch.linkage(X_scaled, method='ward'), no_labels=True)\n",
    "plt.show()\n",
    "\n",
    "# create clusters\n",
    "hc = AgglomerativeClustering(n_clusters=3, affinity = 'euclidean', linkage = 'ward')\n",
    "\n",
    "# save clusters for chart y_hc = hc.fit_predict(points)\n",
    "print(\"predictions --- \")\n",
    "y_hc = hc.fit_predict(X_scaled)\n",
    "y_hc\n",
    "\n",
    "print(\"labels --- \")\n",
    "hc.labels_\n",
    "\n",
    "print(\"pre-assigned labels --- \")\n",
    "y.values\n",
    "\n",
    "dk={0:2,1:0,2:1}\n",
    "acc_score=accuracy_score(list(map(lambda x:dk[x],y.values)),hc.labels_)\n",
    "print(f'Accuracy {acc_score*100:.3f}')\n"
   ]
  },
  {
   "cell_type": "code",
   "execution_count": null,
   "metadata": {},
   "outputs": [],
   "source": []
  },
  {
   "cell_type": "code",
   "execution_count": null,
   "metadata": {},
   "outputs": [],
   "source": []
  },
  {
   "cell_type": "markdown",
   "metadata": {},
   "source": [
    "<b><font color=\"red\" size=6>Mission 1</font>\n",
    "\n",
    "a) Cluster Europe using the EUindicators dataset and explain the clusterization using the centroids.<br><br>\n",
    "b) Same for the credit card dataset. \n",
    "<br><br>\n",
    "</b>"
   ]
  },
  {
   "cell_type": "code",
   "execution_count": 15,
   "metadata": {},
   "outputs": [],
   "source": [
    "# Function to get the number of centroids\n",
    "\n",
    "def scale_x(data):\n",
    "    \n",
    "    # Drop null values from the data:\n",
    "    \n",
    "    data.dropna(inplace = True)\n",
    "\n",
    "    # Separate x and y\n",
    "\n",
    "    x = data.drop([data.columns[0]], axis = 1)\n",
    "\n",
    "    # Scale x and create a dataframe with the info\n",
    "\n",
    "    x_scaled = min_max_scaler.fit_transform(x)\n",
    "    \n",
    "    return x_scaled\n",
    "\n",
    "\n",
    "# Function to get column names\n",
    "\n",
    "def get_columns(data):\n",
    "    \n",
    "    # Drop null values from the data:\n",
    "    \n",
    "    data.dropna(inplace = True)\n",
    "\n",
    "    # Separate x and y\n",
    "\n",
    "    x = data.drop([data.columns[0]], axis = 1)\n",
    "    \n",
    "    return x.columns\n",
    "\n",
    "\n",
    "# Function to determine number of centroids\n",
    "\n",
    "def cluster_centroids(data, kmeans):\n",
    "    \n",
    "    data.dropna(inplace = True)\n",
    "\n",
    "    # Separate x and y\n",
    "\n",
    "    x = data.drop([data.columns[0]], axis = 1)\n",
    "\n",
    "    x_scaled = scale_x(data)\n",
    "    \n",
    "    # Using kmeans, clusterize the data\n",
    "\n",
    "    model = KMeans(kmeans)\n",
    "    model.fit(x_scaled)\n",
    "\n",
    "    # Bring the data back to the original ranges\n",
    "    \n",
    "    x_scaled_fit = min_max_scaler.fit(x)\n",
    "    centroids_rev = pd.DataFrame(x_scaled_fit.inverse_transform(model.cluster_centers_), columns = get_columns(data))\n",
    "\n",
    "    return centroids_rev\n",
    "\n",
    "\n",
    "# Function to determine number of clusters to use\n",
    "\n",
    "def elbow(data, n):\n",
    "    \n",
    "    x_scaled = scale_x(data)\n",
    "    \n",
    "    # Now we apply KMeans\n",
    "    model = KMeans()\n",
    "\n",
    "    # we want first to find out how many clusters using the elbow technique\n",
    "    visualizer = KElbowVisualizer(model, k=(1,n))\n",
    "    visualizer.fit(x_scaled)      \n",
    "    visualizer.show()\n",
    "    \n",
    "    \n",
    "# Function for silouette scores\n",
    "    \n",
    "def sil(data, clusters):\n",
    "    \n",
    "    x_scaled = scale_x(data)\n",
    "    \n",
    "    model = MiniBatchKMeans(n_clusters = clusters)\n",
    "    \n",
    "    model.fit(x_scaled)\n",
    "    \n",
    "    sil = metrics.silhouette_score(x_scaled, model.labels_, metric=\"euclidean\")\n",
    "    print(f'Silhouette score {sil:5f}')\n"
   ]
  },
  {
   "cell_type": "code",
   "execution_count": 16,
   "metadata": {},
   "outputs": [
    {
     "data": {
      "image/png": "[encoded data removed]",
      "text/plain": [
       "<Figure size 576x396 with 2 Axes>"
      ]
     },
     "metadata": {},
     "output_type": "display_data"
    },
    {
     "name": "stdout",
     "output_type": "stream",
     "text": [
      "Silhouette score 0.272280\n"
     ]
    },
    {
     "data": {
      "text/html": [
       "<div>\n",
       "<style scoped>\n",
       "    .dataframe tbody tr th:only-of-type {\n",
       "        vertical-align: middle;\n",
       "    }\n",
       "\n",
       "    .dataframe tbody tr th {\n",
       "        vertical-align: top;\n",
       "    }\n",
       "\n",
       "    .dataframe thead th {\n",
       "        text-align: right;\n",
       "    }\n",
       "</style>\n",
       "<table border=\"1\" class=\"dataframe\">\n",
       "  <thead>\n",
       "    <tr style=\"text-align: right;\">\n",
       "      <th></th>\n",
       "      <th>Construction Confidence Indicator</th>\n",
       "      <th>Consumer Confidence Indicator</th>\n",
       "      <th>Industrial Confidence Indicator</th>\n",
       "      <th>Retail Confidence Indicator</th>\n",
       "      <th>Service Confidence Indicator</th>\n",
       "      <th>Business Confidence Indicator (avg)</th>\n",
       "    </tr>\n",
       "  </thead>\n",
       "  <tbody>\n",
       "    <tr>\n",
       "      <th>0</th>\n",
       "      <td>-10.440000</td>\n",
       "      <td>-1.080000</td>\n",
       "      <td>-2.320000</td>\n",
       "      <td>-4.680000</td>\n",
       "      <td>15.580000</td>\n",
       "      <td>-0.465000</td>\n",
       "    </tr>\n",
       "    <tr>\n",
       "      <th>1</th>\n",
       "      <td>-10.054545</td>\n",
       "      <td>-7.581818</td>\n",
       "      <td>1.600000</td>\n",
       "      <td>10.145455</td>\n",
       "      <td>9.563636</td>\n",
       "      <td>2.813636</td>\n",
       "    </tr>\n",
       "    <tr>\n",
       "      <th>2</th>\n",
       "      <td>-1.650000</td>\n",
       "      <td>2.100000</td>\n",
       "      <td>4.450000</td>\n",
       "      <td>15.075000</td>\n",
       "      <td>26.800000</td>\n",
       "      <td>11.168750</td>\n",
       "    </tr>\n",
       "    <tr>\n",
       "      <th>3</th>\n",
       "      <td>-27.900000</td>\n",
       "      <td>-18.166667</td>\n",
       "      <td>-4.983333</td>\n",
       "      <td>2.233333</td>\n",
       "      <td>4.616667</td>\n",
       "      <td>-6.508333</td>\n",
       "    </tr>\n",
       "  </tbody>\n",
       "</table>\n",
       "</div>"
      ],
      "text/plain": [
       "    Construction Confidence Indicator    Consumer Confidence Indicator   \\\n",
       "0                           -10.440000                        -1.080000   \n",
       "1                           -10.054545                        -7.581818   \n",
       "2                            -1.650000                         2.100000   \n",
       "3                           -27.900000                       -18.166667   \n",
       "\n",
       "    Industrial Confidence Indicator    Retail Confidence Indicator   \\\n",
       "0                          -2.320000                      -4.680000   \n",
       "1                           1.600000                      10.145455   \n",
       "2                           4.450000                      15.075000   \n",
       "3                          -4.983333                       2.233333   \n",
       "\n",
       "    Service Confidence Indicator    Business Confidence Indicator (avg)   \n",
       "0                       15.580000                              -0.465000  \n",
       "1                        9.563636                               2.813636  \n",
       "2                       26.800000                              11.168750  \n",
       "3                        4.616667                              -6.508333  "
      ]
     },
     "execution_count": 16,
     "metadata": {},
     "output_type": "execute_result"
    }
   ],
   "source": [
    "eu_data = pd.read_excel(\"EUIndicators-2014-2018.xlsx\", engine = \"openpyxl\")\n",
    "\n",
    "elbow(eu_data, 12)\n",
    "\n",
    "sil(eu_data, 4)\n",
    "\n",
    "cluster_centroids(eu_data, 4)"
   ]
  },
  {
   "cell_type": "code",
   "execution_count": 18,
   "metadata": {},
   "outputs": [
    {
     "name": "stdout",
     "output_type": "stream",
     "text": [
      "The first group have the highest confidence about their current and prospective economic status.\n",
      "Confidence is especially high in the service and retail sectors. Also, all confidence indicators are higher\n",
      "than for the other groups. Hence, we can presume this is group is the richest.\n",
      "\n",
      "The second group has the lowest overall confidence, especially in construction and the consumer sectors.\n",
      "It only has positive indicators in the retail and service sectors.\n",
      "\n",
      "The third has the second highest business confidence indicators (slightly positive), mostly due to high confidence\n",
      "in the retail and service sectors.\n",
      "\n",
      "The last group has the third lowest confidence, very slightly below 0. Hence, the confidence in this group could be\n",
      "described as neutral. The sector with the highest confidence is the service sector.\n"
     ]
    }
   ],
   "source": [
    "print(\"The first group have the highest confidence about their current and prospective economic status.\") \n",
    "print(\"Confidence is especially high in the service and retail sectors. Also, all confidence indicators are higher\")\n",
    "print(\"than for the other groups. Hence, we can presume this is group is the richest.\")\n",
    "print(\"\")\n",
    "print(\"The second group has the lowest overall confidence, especially in construction and the consumer sectors.\")\n",
    "print(\"It only has positive indicators in the retail and service sectors.\")\n",
    "print(\"\")\n",
    "print(\"The third has the second highest business confidence indicators (slightly positive), mostly due to high confidence\")\n",
    "print(\"in the retail and service sectors.\")\n",
    "print(\"\")\n",
    "print(\"The last group has the third lowest confidence, very slightly below 0. Hence, the confidence in this group could be\")\n",
    "print(\"described as neutral. The sector with the highest confidence is the service sector.\")\n"
   ]
  },
  {
   "cell_type": "code",
   "execution_count": 19,
   "metadata": {},
   "outputs": [
    {
     "data": {
      "image/png": "[encoded data removed]",
      "text/plain": [
       "<Figure size 576x396 with 2 Axes>"
      ]
     },
     "metadata": {},
     "output_type": "display_data"
    },
    {
     "name": "stdout",
     "output_type": "stream",
     "text": [
      "Silhouette score 0.343750\n"
     ]
    },
    {
     "data": {
      "text/html": [
       "<div>\n",
       "<style scoped>\n",
       "    .dataframe tbody tr th:only-of-type {\n",
       "        vertical-align: middle;\n",
       "    }\n",
       "\n",
       "    .dataframe tbody tr th {\n",
       "        vertical-align: top;\n",
       "    }\n",
       "\n",
       "    .dataframe thead th {\n",
       "        text-align: right;\n",
       "    }\n",
       "</style>\n",
       "<table border=\"1\" class=\"dataframe\">\n",
       "  <thead>\n",
       "    <tr style=\"text-align: right;\">\n",
       "      <th></th>\n",
       "      <th>BALANCE</th>\n",
       "      <th>BALANCE_FREQUENCY</th>\n",
       "      <th>PURCHASES</th>\n",
       "      <th>ONEOFF_PURCHASES</th>\n",
       "      <th>INSTALLMENTS_PURCHASES</th>\n",
       "      <th>CASH_ADVANCE</th>\n",
       "      <th>PURCHASES_FREQUENCY</th>\n",
       "      <th>ONEOFF_PURCHASES_FREQUENCY</th>\n",
       "      <th>PURCHASES_INSTALLMENTS_FREQUENCY</th>\n",
       "      <th>CASH_ADVANCE_FREQUENCY</th>\n",
       "      <th>CASH_ADVANCE_TRX</th>\n",
       "      <th>PURCHASES_TRX</th>\n",
       "      <th>CREDIT_LIMIT</th>\n",
       "      <th>PAYMENTS</th>\n",
       "      <th>MINIMUM_PAYMENTS</th>\n",
       "      <th>PRC_FULL_PAYMENT</th>\n",
       "      <th>TENURE</th>\n",
       "    </tr>\n",
       "  </thead>\n",
       "  <tbody>\n",
       "    <tr>\n",
       "      <th>0</th>\n",
       "      <td>1871.799103</td>\n",
       "      <td>0.976292</td>\n",
       "      <td>3248.328897</td>\n",
       "      <td>2491.135076</td>\n",
       "      <td>757.193821</td>\n",
       "      <td>655.740026</td>\n",
       "      <td>0.894715</td>\n",
       "      <td>0.826506</td>\n",
       "      <td>0.450049</td>\n",
       "      <td>0.090054</td>\n",
       "      <td>2.187050</td>\n",
       "      <td>42.211031</td>\n",
       "      <td>6724.378316</td>\n",
       "      <td>3324.804777</td>\n",
       "      <td>733.293334</td>\n",
       "      <td>0.263797</td>\n",
       "      <td>11.760991</td>\n",
       "    </tr>\n",
       "    <tr>\n",
       "      <th>1</th>\n",
       "      <td>2195.135153</td>\n",
       "      <td>0.968686</td>\n",
       "      <td>276.935904</td>\n",
       "      <td>229.292900</td>\n",
       "      <td>47.812095</td>\n",
       "      <td>1602.435916</td>\n",
       "      <td>0.131941</td>\n",
       "      <td>0.083098</td>\n",
       "      <td>0.049152</td>\n",
       "      <td>0.228995</td>\n",
       "      <td>5.451814</td>\n",
       "      <td>2.589286</td>\n",
       "      <td>4202.004312</td>\n",
       "      <td>1497.718688</td>\n",
       "      <td>1030.146137</td>\n",
       "      <td>0.023264</td>\n",
       "      <td>11.479875</td>\n",
       "    </tr>\n",
       "    <tr>\n",
       "      <th>2</th>\n",
       "      <td>124.154609</td>\n",
       "      <td>0.905696</td>\n",
       "      <td>1182.923491</td>\n",
       "      <td>275.587903</td>\n",
       "      <td>908.308498</td>\n",
       "      <td>44.217420</td>\n",
       "      <td>0.870406</td>\n",
       "      <td>0.104825</td>\n",
       "      <td>0.807089</td>\n",
       "      <td>0.006683</td>\n",
       "      <td>0.146143</td>\n",
       "      <td>19.715832</td>\n",
       "      <td>4060.625538</td>\n",
       "      <td>1297.391753</td>\n",
       "      <td>190.870145</td>\n",
       "      <td>0.796204</td>\n",
       "      <td>11.247632</td>\n",
       "    </tr>\n",
       "    <tr>\n",
       "      <th>3</th>\n",
       "      <td>1651.467751</td>\n",
       "      <td>0.948508</td>\n",
       "      <td>1220.687588</td>\n",
       "      <td>394.452875</td>\n",
       "      <td>826.747751</td>\n",
       "      <td>725.642223</td>\n",
       "      <td>0.879522</td>\n",
       "      <td>0.138401</td>\n",
       "      <td>0.826383</td>\n",
       "      <td>0.100338</td>\n",
       "      <td>2.553964</td>\n",
       "      <td>23.724451</td>\n",
       "      <td>4180.597281</td>\n",
       "      <td>1624.822405</td>\n",
       "      <td>1231.948030</td>\n",
       "      <td>0.053714</td>\n",
       "      <td>11.617001</td>\n",
       "    </tr>\n",
       "    <tr>\n",
       "      <th>4</th>\n",
       "      <td>187.692335</td>\n",
       "      <td>0.424973</td>\n",
       "      <td>375.641943</td>\n",
       "      <td>262.626670</td>\n",
       "      <td>113.305117</td>\n",
       "      <td>546.683244</td>\n",
       "      <td>0.208719</td>\n",
       "      <td>0.081856</td>\n",
       "      <td>0.118975</td>\n",
       "      <td>0.051515</td>\n",
       "      <td>1.165039</td>\n",
       "      <td>3.551758</td>\n",
       "      <td>3965.758464</td>\n",
       "      <td>1568.671812</td>\n",
       "      <td>187.187249</td>\n",
       "      <td>0.256629</td>\n",
       "      <td>11.483398</td>\n",
       "    </tr>\n",
       "  </tbody>\n",
       "</table>\n",
       "</div>"
      ],
      "text/plain": [
       "       BALANCE  BALANCE_FREQUENCY    PURCHASES  ONEOFF_PURCHASES  \\\n",
       "0  1871.799103           0.976292  3248.328897       2491.135076   \n",
       "1  2195.135153           0.968686   276.935904        229.292900   \n",
       "2   124.154609           0.905696  1182.923491        275.587903   \n",
       "3  1651.467751           0.948508  1220.687588        394.452875   \n",
       "4   187.692335           0.424973   375.641943        262.626670   \n",
       "\n",
       "   INSTALLMENTS_PURCHASES  CASH_ADVANCE  PURCHASES_FREQUENCY  \\\n",
       "0              757.193821    655.740026             0.894715   \n",
       "1               47.812095   1602.435916             0.131941   \n",
       "2              908.308498     44.217420             0.870406   \n",
       "3              826.747751    725.642223             0.879522   \n",
       "4              113.305117    546.683244             0.208719   \n",
       "\n",
       "   ONEOFF_PURCHASES_FREQUENCY  PURCHASES_INSTALLMENTS_FREQUENCY  \\\n",
       "0                    0.826506                          0.450049   \n",
       "1                    0.083098                          0.049152   \n",
       "2                    0.104825                          0.807089   \n",
       "3                    0.138401                          0.826383   \n",
       "4                    0.081856                          0.118975   \n",
       "\n",
       "   CASH_ADVANCE_FREQUENCY  CASH_ADVANCE_TRX  PURCHASES_TRX  CREDIT_LIMIT  \\\n",
       "0                0.090054          2.187050      42.211031   6724.378316   \n",
       "1                0.228995          5.451814       2.589286   4202.004312   \n",
       "2                0.006683          0.146143      19.715832   4060.625538   \n",
       "3                0.100338          2.553964      23.724451   4180.597281   \n",
       "4                0.051515          1.165039       3.551758   3965.758464   \n",
       "\n",
       "      PAYMENTS  MINIMUM_PAYMENTS  PRC_FULL_PAYMENT     TENURE  \n",
       "0  3324.804777        733.293334          0.263797  11.760991  \n",
       "1  1497.718688       1030.146137          0.023264  11.479875  \n",
       "2  1297.391753        190.870145          0.796204  11.247632  \n",
       "3  1624.822405       1231.948030          0.053714  11.617001  \n",
       "4  1568.671812        187.187249          0.256629  11.483398  "
      ]
     },
     "execution_count": 19,
     "metadata": {},
     "output_type": "execute_result"
    }
   ],
   "source": [
    "cc_data = pd.read_csv(\"CCData.csv\")\n",
    "\n",
    "elbow(cc_data, 20)\n",
    "\n",
    "sil(cc_data, 5)\n",
    "\n",
    "cluster_centroids(cc_data, 5)"
   ]
  },
  {
   "cell_type": "code",
   "execution_count": 20,
   "metadata": {},
   "outputs": [
    {
     "name": "stdout",
     "output_type": "stream",
     "text": [
      "The first group has the lowest balance out of all the groups, and is the group with the lowest total purchases\n",
      "and frequency. However, they do get significant cash advances, even though its the second lowest amongst the groups.\n",
      "This group also has the lowest credit limit.\n",
      "\n",
      "The second group has the second highest balance, and the highest amount of purchases (and one-off purchases). The \n",
      "group has also the highest amount of payments (since total purchases is the highest amount). The credit limit of\n",
      "this group is also the highest.\n",
      "\n",
      "This group has the highest balance of all the groups, but the lowest amount of total purchases and frequency. They\n",
      "also ask for the highest amount of cash advances and cash advance frequency. The group makes the lowest amount of\n",
      "payments, and has an average credit limit\n",
      "\n",
      "The fourth group has an average balance, purchase total and credit limit. However, the group does have a high purchase\n",
      "frequency.\n",
      "\n",
      "The fifth group has a very low balance, very close to the lowest, but the second highest purchase total, as well as\n",
      "frequency, since the group also has the second highest credit limit.\n"
     ]
    }
   ],
   "source": [
    "print(\"The first group has the lowest balance out of all the groups, and is the group with the lowest total purchases\")\n",
    "print(\"and frequency. However, they do get significant cash advances, even though its the second lowest amongst the groups.\")\n",
    "print(\"This group also has the lowest credit limit.\")\n",
    "print(\"\")\n",
    "print(\"The second group has the second highest balance, and the highest amount of purchases (and one-off purchases). The \")\n",
    "print(\"group has also the highest amount of payments (since total purchases is the highest amount). The credit limit of\")\n",
    "print(\"this group is also the highest.\")\n",
    "print(\"\")\n",
    "print(\"This group has the highest balance of all the groups, but the lowest amount of total purchases and frequency. They\") \n",
    "print(\"also ask for the highest amount of cash advances and cash advance frequency. The group makes the lowest amount of\")\n",
    "print(\"payments, and has an average credit limit\")\n",
    "print(\"\")\n",
    "print(\"The fourth group has an average balance, purchase total and credit limit. However, the group does have a high purchase\")\n",
    "print(\"frequency.\")\n",
    "print(\"\")\n",
    "print(\"The fifth group has a very low balance, very close to the lowest, but the second highest purchase total, as well as\")\n",
    "print(\"frequency, since the group also has the second highest credit limit.\")\n"
   ]
  },
  {
   "cell_type": "code",
   "execution_count": null,
   "metadata": {},
   "outputs": [],
   "source": []
  }
 ],
 "metadata": {
  "kernelspec": {
   "display_name": "Python 3",
   "language": "python",
   "name": "python3"
  },
  "language_info": {
   "codemirror_mode": {
    "name": "ipython",
    "version": 3
   },
   "file_extension": ".py",
   "mimetype": "text/x-python",
   "name": "python",
   "nbconvert_exporter": "python",
   "pygments_lexer": "ipython3",
   "version": "3.7.5"
  }
 },
 "nbformat": 4,
 "nbformat_minor": 2
}
